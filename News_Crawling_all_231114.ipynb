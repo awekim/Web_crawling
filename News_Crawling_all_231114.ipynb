{
 "cells": [
  {
   "cell_type": "markdown",
   "metadata": {},
   "source": [
    "# Media Web-Crawling"
   ]
  },
  {
   "cell_type": "code",
   "execution_count": null,
   "metadata": {},
   "outputs": [],
   "source": [
    "import pandas as pd\n",
    "\n",
    "url_list_all = pd.read_csv('MediaTopic_R/article.url.csv')\n",
    "url_list_all"
   ]
  },
  {
   "cell_type": "code",
   "execution_count": null,
   "metadata": {},
   "outputs": [],
   "source": [
    "url_list_all[url_list_all['URL'].str.contains('news.join')]"
   ]
  },
  {
   "cell_type": "code",
   "execution_count": 3,
   "metadata": {},
   "outputs": [],
   "source": [
    "url_list_all = url_list_all[url_list_all['URL'].str.contains('news.join') == False]"
   ]
  },
  {
   "cell_type": "code",
   "execution_count": 4,
   "metadata": {},
   "outputs": [
    {
     "name": "stdout",
     "output_type": "stream",
     "text": [
      "625\n",
      "['경향신문' '동아일보' '중앙일보' '한겨레']\n"
     ]
    }
   ],
   "source": [
    "print(url_list_all['ID'].nunique())\n",
    "print(url_list_all['news'].unique())"
   ]
  },
  {
   "cell_type": "code",
   "execution_count": 5,
   "metadata": {},
   "outputs": [
    {
     "data": {
      "text/plain": [
       "637"
      ]
     },
     "execution_count": 5,
     "metadata": {},
     "output_type": "execute_result"
    }
   ],
   "source": [
    "url_list_all['URL'].nunique()"
   ]
  },
  {
   "cell_type": "markdown",
   "metadata": {},
   "source": [
    "## 경향신문\n"
   ]
  },
  {
   "cell_type": "code",
   "execution_count": null,
   "metadata": {},
   "outputs": [],
   "source": [
    "url_list_kh = url_list_all[url_list_all['news']=='경향신문']\n",
    "url_list_kh['content'] = \"\"\n",
    "url_list_kh.head()"
   ]
  },
  {
   "cell_type": "code",
   "execution_count": null,
   "metadata": {},
   "outputs": [],
   "source": [
    "## \n",
    "content_list = []\n",
    "i = 0\n",
    "for url in url_list_kh['URL']:\n",
    "    webpage = make_request(url)\n",
    "    if webpage:\n",
    "        # 조건에 따라 다른 HTML 요소 선택\n",
    "        if webpage.select('div.article_cont'):\n",
    "            article_text = ' '.join([p.get_text() for p in webpage.select('div.article_cont')])\n",
    "        else:\n",
    "            article_text = ' '.join([p.get_text() for p in webpage.select('div.art_body')])\n",
    "\n",
    "        # 정규 표현식을 사용한 문자열 정리\n",
    "        article_text = re.sub(r'\\n|\\r|\\t', '', article_text).strip()\n",
    "        article_text = re.sub(r'createIframe\\(.*?\\);\\s*', '', article_text)\n",
    "        #content_list.append(article_text)\n",
    "   \n",
    "    url_list_kh['content'][i] = article_text\n",
    "    time.sleep(1)\n",
    "    print(url, url_list_kh['content'][i])\n",
    "    i += 1\n",
    "\n",
    "#url_list_kh['content'] = content_list\n",
    "#url_list_kh"
   ]
  },
  {
   "cell_type": "code",
   "execution_count": 43,
   "metadata": {},
   "outputs": [
    {
     "data": {
      "text/html": [
       "<div>\n",
       "<style scoped>\n",
       "    .dataframe tbody tr th:only-of-type {\n",
       "        vertical-align: middle;\n",
       "    }\n",
       "\n",
       "    .dataframe tbody tr th {\n",
       "        vertical-align: top;\n",
       "    }\n",
       "\n",
       "    .dataframe thead th {\n",
       "        text-align: right;\n",
       "    }\n",
       "</style>\n",
       "<table border=\"1\" class=\"dataframe\">\n",
       "  <thead>\n",
       "    <tr style=\"text-align: right;\">\n",
       "      <th></th>\n",
       "      <th>ID</th>\n",
       "      <th>news</th>\n",
       "      <th>URL</th>\n",
       "      <th>content</th>\n",
       "    </tr>\n",
       "  </thead>\n",
       "  <tbody>\n",
       "    <tr>\n",
       "      <th>0</th>\n",
       "      <td>1.100101e+06</td>\n",
       "      <td>경향신문</td>\n",
       "      <td>http://news.khan.co.kr/kh_news/khan_art_view.h...</td>\n",
       "      <td>방송과 통신을 함께 관장하는 방송통신위원회(방통위) 설치 법안이 국회를 통과해 조만...</td>\n",
       "    </tr>\n",
       "    <tr>\n",
       "      <th>1</th>\n",
       "      <td>1.100101e+06</td>\n",
       "      <td>경향신문</td>\n",
       "      <td>http://news.khan.co.kr/kh_news/khan_art_view.h...</td>\n",
       "      <td>노무현 정부 출범 초기인 2003년 4월 초 우리는 본란을 통해 “노 대통령의 서동...</td>\n",
       "    </tr>\n",
       "    <tr>\n",
       "      <th>2</th>\n",
       "      <td>1.100101e+06</td>\n",
       "      <td>경향신문</td>\n",
       "      <td>http://news.khan.co.kr/kh_news/khan_art_view.h...</td>\n",
       "      <td>이명박 대통령이 언론계와 학계의 반대에도 불구하고 최시중씨를 방송통신위원장에 임명했...</td>\n",
       "    </tr>\n",
       "    <tr>\n",
       "      <th>3</th>\n",
       "      <td>1.100101e+06</td>\n",
       "      <td>경향신문</td>\n",
       "      <td>http://news.khan.co.kr/kh_news/khan_art_view.h...</td>\n",
       "      <td>이명박 정권의 KBS 장악 기도가 집요하게 진행되고 있다. KBS 이사회는 어제 임...</td>\n",
       "    </tr>\n",
       "    <tr>\n",
       "      <th>4</th>\n",
       "      <td>1.100101e+06</td>\n",
       "      <td>경향신문</td>\n",
       "      <td>http://news.khan.co.kr/kh_news/khan_art_view.h...</td>\n",
       "      <td>작가 이문열씨는 수많은 베스트 셀러를 펴낸 것으로 유명하지만 물불 가리지 않는 정치...</td>\n",
       "    </tr>\n",
       "  </tbody>\n",
       "</table>\n",
       "</div>"
      ],
      "text/plain": [
       "             ID  news                                                URL  \\\n",
       "0  1.100101e+06  경향신문  http://news.khan.co.kr/kh_news/khan_art_view.h...   \n",
       "1  1.100101e+06  경향신문  http://news.khan.co.kr/kh_news/khan_art_view.h...   \n",
       "2  1.100101e+06  경향신문  http://news.khan.co.kr/kh_news/khan_art_view.h...   \n",
       "3  1.100101e+06  경향신문  http://news.khan.co.kr/kh_news/khan_art_view.h...   \n",
       "4  1.100101e+06  경향신문  http://news.khan.co.kr/kh_news/khan_art_view.h...   \n",
       "\n",
       "                                             content  \n",
       "0  방송과 통신을 함께 관장하는 방송통신위원회(방통위) 설치 법안이 국회를 통과해 조만...  \n",
       "1  노무현 정부 출범 초기인 2003년 4월 초 우리는 본란을 통해 “노 대통령의 서동...  \n",
       "2  이명박 대통령이 언론계와 학계의 반대에도 불구하고 최시중씨를 방송통신위원장에 임명했...  \n",
       "3  이명박 정권의 KBS 장악 기도가 집요하게 진행되고 있다. KBS 이사회는 어제 임...  \n",
       "4  작가 이문열씨는 수많은 베스트 셀러를 펴낸 것으로 유명하지만 물불 가리지 않는 정치...  "
      ]
     },
     "execution_count": 43,
     "metadata": {},
     "output_type": "execute_result"
    }
   ],
   "source": [
    "url_list_kh.to_csv('url_list_kh.csv', encoding='utf-8-sig')\n",
    "url_list_kh.head()"
   ]
  },
  {
   "cell_type": "markdown",
   "metadata": {},
   "source": [
    "## 동아일보\n"
   ]
  },
  {
   "cell_type": "code",
   "execution_count": null,
   "metadata": {},
   "outputs": [],
   "source": [
    "url_list_da = url_list_all[url_list_all['news']=='동아일보']\n",
    "url_list_da['content'] = \"\"\n",
    "url_list_da.head()"
   ]
  },
  {
   "cell_type": "code",
   "execution_count": null,
   "metadata": {},
   "outputs": [],
   "source": [
    "import requests\n",
    "from bs4 import BeautifulSoup\n",
    "import time\n",
    "\n",
    "content_list = []\n",
    "for url in url_list_da['URL']:\n",
    "    response = requests.get(url)\n",
    "    soup = BeautifulSoup(response.text, 'html.parser')\n",
    "    content = soup.select_one('.article_txt')\n",
    "    article_text = re.sub(r'\\n|\\r|\\t', '', content.text).strip()\n",
    "    article_text = re.sub(r'createIframe\\(.*?\\);\\s*', '', article_text)\n",
    "    content_list.append(article_text)\n",
    "    time.sleep(1)\n",
    "    \n",
    "url_list_da['content'] = content_list\n",
    "url_list_da  "
   ]
  },
  {
   "cell_type": "code",
   "execution_count": null,
   "metadata": {},
   "outputs": [],
   "source": [
    "url_list_da.to_csv('url_list_da.csv', encoding='utf-8-sig')\n",
    "url_list_da.head()"
   ]
  },
  {
   "cell_type": "markdown",
   "metadata": {},
   "source": [
    "## 중앙일보\n"
   ]
  },
  {
   "cell_type": "code",
   "execution_count": null,
   "metadata": {},
   "outputs": [],
   "source": [
    "url_list_ja = url_list_all[url_list_all['news']=='중앙일보']\n",
    "url_list_ja['content'] = \"\"\n",
    "url_list_ja.head()"
   ]
  },
  {
   "cell_type": "code",
   "execution_count": null,
   "metadata": {},
   "outputs": [],
   "source": [
    "content_list = []\n",
    "i = 0\n",
    "for url in url_list_ja['URL']:\n",
    "    webpage = make_request(url)\n",
    "    if webpage:\n",
    "        # BeautifulSoup을 사용한 <p> 태그의 텍스트 추출\n",
    "        paragraphs = webpage.find_all('p')\n",
    "        texts = [p.get_text() for p in paragraphs]\n",
    "        # 가장 긴 텍스트 선택\n",
    "        article_text = max(texts, key=len, default=\"\")\n",
    "        content_list.append(article_text)\n",
    "        time.sleep(1)\n",
    "    else:\n",
    "        article_text = \"\"\n",
    "        content_list.append(article_text)\n",
    "        time.sleep(1)\n",
    "url_list_ja['content'] = content_list\n",
    "url_list_ja      \n"
   ]
  },
  {
   "cell_type": "code",
   "execution_count": 115,
   "metadata": {},
   "outputs": [
    {
     "data": {
      "text/html": [
       "<div>\n",
       "<style scoped>\n",
       "    .dataframe tbody tr th:only-of-type {\n",
       "        vertical-align: middle;\n",
       "    }\n",
       "\n",
       "    .dataframe tbody tr th {\n",
       "        vertical-align: top;\n",
       "    }\n",
       "\n",
       "    .dataframe thead th {\n",
       "        text-align: right;\n",
       "    }\n",
       "</style>\n",
       "<table border=\"1\" class=\"dataframe\">\n",
       "  <thead>\n",
       "    <tr style=\"text-align: right;\">\n",
       "      <th></th>\n",
       "      <th>ID</th>\n",
       "      <th>news</th>\n",
       "      <th>URL</th>\n",
       "      <th>content</th>\n",
       "    </tr>\n",
       "  </thead>\n",
       "  <tbody>\n",
       "    <tr>\n",
       "      <th>338</th>\n",
       "      <td>1.100901e+06</td>\n",
       "      <td>중앙일보</td>\n",
       "      <td>https://www.joongang.co.kr/article/11050258</td>\n",
       "      <td>김재철보다는 ‘김재철 이후’가 더 중요하다. MBC 대주주인 방송문화진흥회(방문진)...</td>\n",
       "    </tr>\n",
       "    <tr>\n",
       "      <th>339</th>\n",
       "      <td>1.100901e+06</td>\n",
       "      <td>중앙일보</td>\n",
       "      <td>https://www.joongang.co.kr/article/14024664</td>\n",
       "      <td>민주당은 당초 KBS·MBC 등 공영방송의 공정성을 확보한다는 명분으로 이를 추진...</td>\n",
       "    </tr>\n",
       "    <tr>\n",
       "      <th>340</th>\n",
       "      <td>1.100901e+06</td>\n",
       "      <td>중앙일보</td>\n",
       "      <td>https://www.joongang.co.kr/article/14714831</td>\n",
       "      <td>KBS 전 보도국장은 세월호 희생자와 교통사고 사망자 비교로 물의를 빚었고, 이에...</td>\n",
       "    </tr>\n",
       "    <tr>\n",
       "      <th>341</th>\n",
       "      <td>1.100901e+06</td>\n",
       "      <td>중앙일보</td>\n",
       "      <td>https://www.joongang.co.kr/article/14894059</td>\n",
       "      <td>정권이 바뀌거나 사회적으로 큰 갈등이 터질 때마다 KBS에서는 내홍이 벌어졌다. ...</td>\n",
       "    </tr>\n",
       "    <tr>\n",
       "      <th>342</th>\n",
       "      <td>1.100901e+06</td>\n",
       "      <td>중앙일보</td>\n",
       "      <td>https://www.joongang.co.kr/article/15048877</td>\n",
       "      <td>각계 인사 482명이 문창극 총리 후보자에 대한 KBS 보도를 강력히 비판하는 성명...</td>\n",
       "    </tr>\n",
       "  </tbody>\n",
       "</table>\n",
       "</div>"
      ],
      "text/plain": [
       "               ID  news                                          URL  \\\n",
       "338  1.100901e+06  중앙일보  https://www.joongang.co.kr/article/11050258   \n",
       "339  1.100901e+06  중앙일보  https://www.joongang.co.kr/article/14024664   \n",
       "340  1.100901e+06  중앙일보  https://www.joongang.co.kr/article/14714831   \n",
       "341  1.100901e+06  중앙일보  https://www.joongang.co.kr/article/14894059   \n",
       "342  1.100901e+06  중앙일보  https://www.joongang.co.kr/article/15048877   \n",
       "\n",
       "                                               content  \n",
       "338  김재철보다는 ‘김재철 이후’가 더 중요하다. MBC 대주주인 방송문화진흥회(방문진)...  \n",
       "339  　민주당은 당초 KBS·MBC 등 공영방송의 공정성을 확보한다는 명분으로 이를 추진...  \n",
       "340  　KBS 전 보도국장은 세월호 희생자와 교통사고 사망자 비교로 물의를 빚었고, 이에...  \n",
       "341  　정권이 바뀌거나 사회적으로 큰 갈등이 터질 때마다 KBS에서는 내홍이 벌어졌다. ...  \n",
       "342  각계 인사 482명이 문창극 총리 후보자에 대한 KBS 보도를 강력히 비판하는 성명...  "
      ]
     },
     "execution_count": 115,
     "metadata": {},
     "output_type": "execute_result"
    }
   ],
   "source": [
    "url_list_ja.to_csv('url_list_ja.csv', encoding='utf-8-sig')\n",
    "url_list_ja.head()"
   ]
  },
  {
   "cell_type": "markdown",
   "metadata": {},
   "source": [
    "## 한겨레\n"
   ]
  },
  {
   "cell_type": "code",
   "execution_count": 135,
   "metadata": {},
   "outputs": [
    {
     "data": {
      "text/html": [
       "<div>\n",
       "<style scoped>\n",
       "    .dataframe tbody tr th:only-of-type {\n",
       "        vertical-align: middle;\n",
       "    }\n",
       "\n",
       "    .dataframe tbody tr th {\n",
       "        vertical-align: top;\n",
       "    }\n",
       "\n",
       "    .dataframe thead th {\n",
       "        text-align: right;\n",
       "    }\n",
       "</style>\n",
       "<table border=\"1\" class=\"dataframe\">\n",
       "  <thead>\n",
       "    <tr style=\"text-align: right;\">\n",
       "      <th></th>\n",
       "      <th>ID</th>\n",
       "      <th>news</th>\n",
       "      <th>URL</th>\n",
       "      <th>content</th>\n",
       "    </tr>\n",
       "  </thead>\n",
       "  <tbody>\n",
       "    <tr>\n",
       "      <th>0</th>\n",
       "      <td>1.101001e+06</td>\n",
       "      <td>한겨레</td>\n",
       "      <td>http://www.hani.co.kr/arti/opinion/editorial/1...</td>\n",
       "      <td></td>\n",
       "    </tr>\n",
       "    <tr>\n",
       "      <th>1</th>\n",
       "      <td>1.101001e+06</td>\n",
       "      <td>한겨레</td>\n",
       "      <td>http://www.hani.co.kr/arti/opinion/editorial/1...</td>\n",
       "      <td></td>\n",
       "    </tr>\n",
       "    <tr>\n",
       "      <th>2</th>\n",
       "      <td>1.101001e+06</td>\n",
       "      <td>한겨레</td>\n",
       "      <td>http://www.hani.co.kr/arti/opinion/editorial/1...</td>\n",
       "      <td></td>\n",
       "    </tr>\n",
       "    <tr>\n",
       "      <th>3</th>\n",
       "      <td>1.101001e+06</td>\n",
       "      <td>한겨레</td>\n",
       "      <td>http://www.hani.co.kr/arti/opinion/editorial/1...</td>\n",
       "      <td></td>\n",
       "    </tr>\n",
       "    <tr>\n",
       "      <th>4</th>\n",
       "      <td>1.101001e+06</td>\n",
       "      <td>한겨레</td>\n",
       "      <td>http://www.hani.co.kr/arti/opinion/editorial/1...</td>\n",
       "      <td></td>\n",
       "    </tr>\n",
       "  </tbody>\n",
       "</table>\n",
       "</div>"
      ],
      "text/plain": [
       "             ID news                                                URL  \\\n",
       "0  1.101001e+06  한겨레  http://www.hani.co.kr/arti/opinion/editorial/1...   \n",
       "1  1.101001e+06  한겨레  http://www.hani.co.kr/arti/opinion/editorial/1...   \n",
       "2  1.101001e+06  한겨레  http://www.hani.co.kr/arti/opinion/editorial/1...   \n",
       "3  1.101001e+06  한겨레  http://www.hani.co.kr/arti/opinion/editorial/1...   \n",
       "4  1.101001e+06  한겨레  http://www.hani.co.kr/arti/opinion/editorial/1...   \n",
       "\n",
       "  content  \n",
       "0          \n",
       "1          \n",
       "2          \n",
       "3          \n",
       "4          "
      ]
     },
     "execution_count": 135,
     "metadata": {},
     "output_type": "execute_result"
    }
   ],
   "source": [
    "url_list_han = url_list_all[url_list_all['news']=='한겨레'].reset_index(drop=True)\n",
    "url_list_han['content'] = \"\"\n",
    "url_list_han.head()"
   ]
  },
  {
   "cell_type": "code",
   "execution_count": null,
   "metadata": {},
   "outputs": [],
   "source": [
    "# url_list_han의 'url' 컬럼의 값들을 순회하면서 기사 본문을 추출\n",
    "content_list = []\n",
    "i = 0\n",
    "for url in url_list_han['URL']:\n",
    "    webpage = make_request(url)\n",
    "    if webpage:\n",
    "        if webpage.select_one('div.text') == None:\n",
    "            # BeautifulSoup을 사용한 HTML 요소 선택 및 텍스트 추출\n",
    "            article_elements = webpage.select('div.news_text01')\n",
    "            article_text = ' '.join([element.get_text() for element in article_elements])\n",
    "            # 정규 표현식을 사용한 문자열 정리\n",
    "            article_text = re.sub(r'\\n|\\r|\\t', '', article_text).strip()\n",
    "            article_text = re.sub(r'function getPoll().*$', '', article_text)\n",
    "        else:\n",
    "            # BeautifulSoup을 사용한 HTML 요소 선택 및 텍스트 추출\n",
    "            article_text = webpage.select_one('div.text').get_text()\n",
    "            # 정규 표현식을 사용한 문자열 정리\n",
    "            article_text = re.sub(r'\\n|\\r|\\t', '', article_text).strip()\n",
    "            article_text = re.sub(r'function getPoll().*$', '', article_text)\n",
    "            # content_list = article_text\n",
    "            # content_list.append(content.text)\n",
    "    else:\n",
    "        article_text = \"\"\n",
    "        # content_list.append(article_text)\n",
    "        time.sleep(1)\n",
    "        \n",
    "    url_list_han['content'][i] = article_text\n",
    "    time.sleep(1)\n",
    "    print(url, url_list_han['content'][i])\n",
    "    i += 1"
   ]
  },
  {
   "cell_type": "code",
   "execution_count": 147,
   "metadata": {},
   "outputs": [
    {
     "data": {
      "text/html": [
       "<div>\n",
       "<style scoped>\n",
       "    .dataframe tbody tr th:only-of-type {\n",
       "        vertical-align: middle;\n",
       "    }\n",
       "\n",
       "    .dataframe tbody tr th {\n",
       "        vertical-align: top;\n",
       "    }\n",
       "\n",
       "    .dataframe thead th {\n",
       "        text-align: right;\n",
       "    }\n",
       "</style>\n",
       "<table border=\"1\" class=\"dataframe\">\n",
       "  <thead>\n",
       "    <tr style=\"text-align: right;\">\n",
       "      <th></th>\n",
       "      <th>ID</th>\n",
       "      <th>news</th>\n",
       "      <th>URL</th>\n",
       "      <th>content</th>\n",
       "    </tr>\n",
       "  </thead>\n",
       "  <tbody>\n",
       "    <tr>\n",
       "      <th>0</th>\n",
       "      <td>1.101001e+06</td>\n",
       "      <td>한겨레</td>\n",
       "      <td>http://www.hani.co.kr/arti/opinion/editorial/1...</td>\n",
       "      <td>게티이미지더불어민주당이 포털사의 뉴스 편집권을 막기 위한 입법을 추진하겠다고 밝혔다...</td>\n",
       "    </tr>\n",
       "    <tr>\n",
       "      <th>1</th>\n",
       "      <td>1.101001e+06</td>\n",
       "      <td>한겨레</td>\n",
       "      <td>http://www.hani.co.kr/arti/opinion/editorial/1...</td>\n",
       "      <td>박병석 국회의장 주재로 31일 여의도 국회의장실에서 만난 더불어민주당 윤호중 원내대...</td>\n",
       "    </tr>\n",
       "    <tr>\n",
       "      <th>2</th>\n",
       "      <td>1.101001e+06</td>\n",
       "      <td>한겨레</td>\n",
       "      <td>http://www.hani.co.kr/arti/opinion/editorial/1...</td>\n",
       "      <td>윤호중 더불어민주당 원내대표(가운데)와 김기현 국민의힘 원내대표(왼쪽)가 29일 오...</td>\n",
       "    </tr>\n",
       "    <tr>\n",
       "      <th>3</th>\n",
       "      <td>1.101001e+06</td>\n",
       "      <td>한겨레</td>\n",
       "      <td>http://www.hani.co.kr/arti/opinion/editorial/1...</td>\n",
       "      <td>윤호중 더불어민주당 원내대표(왼쪽)와 김기현 국민의힘 원내대표(원내대표)가 29일 ...</td>\n",
       "    </tr>\n",
       "    <tr>\n",
       "      <th>4</th>\n",
       "      <td>1.101001e+06</td>\n",
       "      <td>한겨레</td>\n",
       "      <td>http://www.hani.co.kr/arti/opinion/editorial/1...</td>\n",
       "      <td>국민의힘 윤석열 대선 후보가 12일 오전 전주역에서 ‘열정열차’에 탑승하고 있다. ...</td>\n",
       "    </tr>\n",
       "  </tbody>\n",
       "</table>\n",
       "</div>"
      ],
      "text/plain": [
       "             ID news                                                URL  \\\n",
       "0  1.101001e+06  한겨레  http://www.hani.co.kr/arti/opinion/editorial/1...   \n",
       "1  1.101001e+06  한겨레  http://www.hani.co.kr/arti/opinion/editorial/1...   \n",
       "2  1.101001e+06  한겨레  http://www.hani.co.kr/arti/opinion/editorial/1...   \n",
       "3  1.101001e+06  한겨레  http://www.hani.co.kr/arti/opinion/editorial/1...   \n",
       "4  1.101001e+06  한겨레  http://www.hani.co.kr/arti/opinion/editorial/1...   \n",
       "\n",
       "                                             content  \n",
       "0  게티이미지더불어민주당이 포털사의 뉴스 편집권을 막기 위한 입법을 추진하겠다고 밝혔다...  \n",
       "1  박병석 국회의장 주재로 31일 여의도 국회의장실에서 만난 더불어민주당 윤호중 원내대...  \n",
       "2  윤호중 더불어민주당 원내대표(가운데)와 김기현 국민의힘 원내대표(왼쪽)가 29일 오...  \n",
       "3  윤호중 더불어민주당 원내대표(왼쪽)와 김기현 국민의힘 원내대표(원내대표)가 29일 ...  \n",
       "4  국민의힘 윤석열 대선 후보가 12일 오전 전주역에서 ‘열정열차’에 탑승하고 있다. ...  "
      ]
     },
     "execution_count": 147,
     "metadata": {},
     "output_type": "execute_result"
    }
   ],
   "source": [
    "url_list_han.to_csv('url_list_ja.csv', encoding='utf-8-sig')\n",
    "url_list_han.head()"
   ]
  },
  {
   "cell_type": "code",
   "execution_count": 150,
   "metadata": {},
   "outputs": [
    {
     "data": {
      "text/html": [
       "<div>\n",
       "<style scoped>\n",
       "    .dataframe tbody tr th:only-of-type {\n",
       "        vertical-align: middle;\n",
       "    }\n",
       "\n",
       "    .dataframe tbody tr th {\n",
       "        vertical-align: top;\n",
       "    }\n",
       "\n",
       "    .dataframe thead th {\n",
       "        text-align: right;\n",
       "    }\n",
       "</style>\n",
       "<table border=\"1\" class=\"dataframe\">\n",
       "  <thead>\n",
       "    <tr style=\"text-align: right;\">\n",
       "      <th></th>\n",
       "      <th>ID</th>\n",
       "      <th>news</th>\n",
       "      <th>URL</th>\n",
       "      <th>content</th>\n",
       "    </tr>\n",
       "  </thead>\n",
       "  <tbody>\n",
       "    <tr>\n",
       "      <th>0</th>\n",
       "      <td>1.101001e+06</td>\n",
       "      <td>한겨레</td>\n",
       "      <td>http://www.hani.co.kr/arti/opinion/editorial/1...</td>\n",
       "      <td>게티이미지더불어민주당이 포털사의 뉴스 편집권을 막기 위한 입법을 추진하겠다고 밝혔다...</td>\n",
       "    </tr>\n",
       "    <tr>\n",
       "      <th>1</th>\n",
       "      <td>1.101001e+06</td>\n",
       "      <td>한겨레</td>\n",
       "      <td>http://www.hani.co.kr/arti/opinion/editorial/1...</td>\n",
       "      <td>박병석 국회의장 주재로 31일 여의도 국회의장실에서 만난 더불어민주당 윤호중 원내대...</td>\n",
       "    </tr>\n",
       "    <tr>\n",
       "      <th>2</th>\n",
       "      <td>1.101001e+06</td>\n",
       "      <td>한겨레</td>\n",
       "      <td>http://www.hani.co.kr/arti/opinion/editorial/1...</td>\n",
       "      <td>윤호중 더불어민주당 원내대표(가운데)와 김기현 국민의힘 원내대표(왼쪽)가 29일 오...</td>\n",
       "    </tr>\n",
       "    <tr>\n",
       "      <th>3</th>\n",
       "      <td>1.101001e+06</td>\n",
       "      <td>한겨레</td>\n",
       "      <td>http://www.hani.co.kr/arti/opinion/editorial/1...</td>\n",
       "      <td>윤호중 더불어민주당 원내대표(왼쪽)와 김기현 국민의힘 원내대표(원내대표)가 29일 ...</td>\n",
       "    </tr>\n",
       "    <tr>\n",
       "      <th>4</th>\n",
       "      <td>1.101001e+06</td>\n",
       "      <td>한겨레</td>\n",
       "      <td>http://www.hani.co.kr/arti/opinion/editorial/1...</td>\n",
       "      <td>국민의힘 윤석열 대선 후보가 12일 오전 전주역에서 ‘열정열차’에 탑승하고 있다. ...</td>\n",
       "    </tr>\n",
       "    <tr>\n",
       "      <th>...</th>\n",
       "      <td>...</td>\n",
       "      <td>...</td>\n",
       "      <td>...</td>\n",
       "      <td>...</td>\n",
       "    </tr>\n",
       "    <tr>\n",
       "      <th>632</th>\n",
       "      <td>1.100101e+06</td>\n",
       "      <td>경향신문</td>\n",
       "      <td>https://www.khan.co.kr/opinion/editorial/artic...</td>\n",
       "      <td>이인호 KBS 이사장이 국회 국정감사에서 “김구 선생은 대한민국 독립을 반대한 분이...</td>\n",
       "    </tr>\n",
       "    <tr>\n",
       "      <th>633</th>\n",
       "      <td>1.100101e+06</td>\n",
       "      <td>경향신문</td>\n",
       "      <td>https://www.khan.co.kr/opinion/editorial/artic...</td>\n",
       "      <td>법원이 또다시 2012년 방송의 공정성 보장과 김재철 사장 퇴진을 요구하며 170일...</td>\n",
       "    </tr>\n",
       "    <tr>\n",
       "      <th>634</th>\n",
       "      <td>1.100101e+06</td>\n",
       "      <td>경향신문</td>\n",
       "      <td>https://www.khan.co.kr/opinion/editorial/artic...</td>\n",
       "      <td>방송통신위원회가 지난 13일 발표한 KBS 이사진 11명과 MBC 대주주인 방송문화...</td>\n",
       "    </tr>\n",
       "    <tr>\n",
       "      <th>635</th>\n",
       "      <td>1.100101e+06</td>\n",
       "      <td>경향신문</td>\n",
       "      <td>https://www.khan.co.kr/opinion/editorial/artic...</td>\n",
       "      <td>자유언론실천재단 주최로 23일 서울 한국프레스센터에서 열린 기자회견에서 원로 언론인...</td>\n",
       "    </tr>\n",
       "    <tr>\n",
       "      <th>636</th>\n",
       "      <td>1.100101e+06</td>\n",
       "      <td>경향신문</td>\n",
       "      <td>https://www.khan.co.kr/opinion/editorial/artic...</td>\n",
       "      <td>더불어민주당 윤호중 원내대표(오른쪽)와 국민의힘 김기현 원내대표가 31일 서울 여의...</td>\n",
       "    </tr>\n",
       "  </tbody>\n",
       "</table>\n",
       "<p>637 rows × 4 columns</p>\n",
       "</div>"
      ],
      "text/plain": [
       "               ID  news                                                URL  \\\n",
       "0    1.101001e+06   한겨레  http://www.hani.co.kr/arti/opinion/editorial/1...   \n",
       "1    1.101001e+06   한겨레  http://www.hani.co.kr/arti/opinion/editorial/1...   \n",
       "2    1.101001e+06   한겨레  http://www.hani.co.kr/arti/opinion/editorial/1...   \n",
       "3    1.101001e+06   한겨레  http://www.hani.co.kr/arti/opinion/editorial/1...   \n",
       "4    1.101001e+06   한겨레  http://www.hani.co.kr/arti/opinion/editorial/1...   \n",
       "..            ...   ...                                                ...   \n",
       "632  1.100101e+06  경향신문  https://www.khan.co.kr/opinion/editorial/artic...   \n",
       "633  1.100101e+06  경향신문  https://www.khan.co.kr/opinion/editorial/artic...   \n",
       "634  1.100101e+06  경향신문  https://www.khan.co.kr/opinion/editorial/artic...   \n",
       "635  1.100101e+06  경향신문  https://www.khan.co.kr/opinion/editorial/artic...   \n",
       "636  1.100101e+06  경향신문  https://www.khan.co.kr/opinion/editorial/artic...   \n",
       "\n",
       "                                               content  \n",
       "0    게티이미지더불어민주당이 포털사의 뉴스 편집권을 막기 위한 입법을 추진하겠다고 밝혔다...  \n",
       "1    박병석 국회의장 주재로 31일 여의도 국회의장실에서 만난 더불어민주당 윤호중 원내대...  \n",
       "2    윤호중 더불어민주당 원내대표(가운데)와 김기현 국민의힘 원내대표(왼쪽)가 29일 오...  \n",
       "3    윤호중 더불어민주당 원내대표(왼쪽)와 김기현 국민의힘 원내대표(원내대표)가 29일 ...  \n",
       "4    국민의힘 윤석열 대선 후보가 12일 오전 전주역에서 ‘열정열차’에 탑승하고 있다. ...  \n",
       "..                                                 ...  \n",
       "632  이인호 KBS 이사장이 국회 국정감사에서 “김구 선생은 대한민국 독립을 반대한 분이...  \n",
       "633  법원이 또다시 2012년 방송의 공정성 보장과 김재철 사장 퇴진을 요구하며 170일...  \n",
       "634  방송통신위원회가 지난 13일 발표한 KBS 이사진 11명과 MBC 대주주인 방송문화...  \n",
       "635  자유언론실천재단 주최로 23일 서울 한국프레스센터에서 열린 기자회견에서 원로 언론인...  \n",
       "636  더불어민주당 윤호중 원내대표(오른쪽)와 국민의힘 김기현 원내대표가 31일 서울 여의...  \n",
       "\n",
       "[637 rows x 4 columns]"
      ]
     },
     "execution_count": 150,
     "metadata": {},
     "output_type": "execute_result"
    }
   ],
   "source": [
    "url_list_all = pd.concat([url_list_han, url_list_ja, url_list_da, url_list_kh])\n",
    "url_list_all = url_list_all.reset_index(drop=True)\n",
    "url_list_all"
   ]
  },
  {
   "cell_type": "code",
   "execution_count": 151,
   "metadata": {},
   "outputs": [],
   "source": [
    "url_list_all.to_csv('url_list_all_fixed.csv', encoding='utf-8-sig')"
   ]
  }
 ],
 "metadata": {
  "kernelspec": {
   "display_name": "gpuenv",
   "language": "python",
   "name": "python3"
  },
  "language_info": {
   "codemirror_mode": {
    "name": "ipython",
    "version": 3
   },
   "file_extension": ".py",
   "mimetype": "text/x-python",
   "name": "python",
   "nbconvert_exporter": "python",
   "pygments_lexer": "ipython3",
   "version": "3.9.16"
  }
 },
 "nbformat": 4,
 "nbformat_minor": 2
}
