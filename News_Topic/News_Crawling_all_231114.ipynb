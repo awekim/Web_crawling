{
 "cells": [
  {
   "cell_type": "markdown",
   "metadata": {},
   "source": [
    "# News Web-Crawling"
   ]
  },
  {
   "cell_type": "code",
   "execution_count": 1,
   "metadata": {},
   "outputs": [],
   "source": [
    "import requests\n",
    "from bs4 import BeautifulSoup\n",
    "import re\n",
    "import time\n",
    "\n",
    "# 사용자 에이전트 설정\n",
    "user_agent_string = \"Mozilla/5.0 (Windows NT 10.0; Win64; x64) AppleWebKit/537.36 (KHTML, like Gecko) Chrome/58.0.3029.110 Safari/537.3\"\n",
    "\n",
    "# 웹 페이지 요청 및 파싱 함수\n",
    "def make_request(url):\n",
    "    response = requests.get(url, headers={'User-Agent': user_agent_string})\n",
    "    if response.status_code == 200:\n",
    "        content_type = response.headers['Content-Type'].lower()\n",
    "        if \"euc-kr\" in content_type or \".html\" in url:\n",
    "            response.encoding = 'euc-kr'\n",
    "        return BeautifulSoup(response.content, 'html.parser')\n",
    "    else:\n",
    "        return None"
   ]
  },
  {
   "cell_type": "code",
   "execution_count": 23,
   "metadata": {},
   "outputs": [
    {
     "data": {
      "text/html": [
       "<div>\n",
       "<style scoped>\n",
       "    .dataframe tbody tr th:only-of-type {\n",
       "        vertical-align: middle;\n",
       "    }\n",
       "\n",
       "    .dataframe tbody tr th {\n",
       "        vertical-align: top;\n",
       "    }\n",
       "\n",
       "    .dataframe thead th {\n",
       "        text-align: right;\n",
       "    }\n",
       "</style>\n",
       "<table border=\"1\" class=\"dataframe\">\n",
       "  <thead>\n",
       "    <tr style=\"text-align: right;\">\n",
       "      <th></th>\n",
       "      <th>ID</th>\n",
       "      <th>news</th>\n",
       "      <th>URL</th>\n",
       "    </tr>\n",
       "  </thead>\n",
       "  <tbody>\n",
       "    <tr>\n",
       "      <th>0</th>\n",
       "      <td>1.100101e+06</td>\n",
       "      <td>경향신문</td>\n",
       "      <td>http://news.khan.co.kr/kh_news/khan_art_view.h...</td>\n",
       "    </tr>\n",
       "    <tr>\n",
       "      <th>1</th>\n",
       "      <td>1.100101e+06</td>\n",
       "      <td>경향신문</td>\n",
       "      <td>http://news.khan.co.kr/kh_news/khan_art_view.h...</td>\n",
       "    </tr>\n",
       "    <tr>\n",
       "      <th>2</th>\n",
       "      <td>1.100101e+06</td>\n",
       "      <td>경향신문</td>\n",
       "      <td>http://news.khan.co.kr/kh_news/khan_art_view.h...</td>\n",
       "    </tr>\n",
       "    <tr>\n",
       "      <th>3</th>\n",
       "      <td>1.100101e+06</td>\n",
       "      <td>경향신문</td>\n",
       "      <td>http://news.khan.co.kr/kh_news/khan_art_view.h...</td>\n",
       "    </tr>\n",
       "    <tr>\n",
       "      <th>4</th>\n",
       "      <td>1.100101e+06</td>\n",
       "      <td>경향신문</td>\n",
       "      <td>http://news.khan.co.kr/kh_news/khan_art_view.h...</td>\n",
       "    </tr>\n",
       "  </tbody>\n",
       "</table>\n",
       "</div>"
      ],
      "text/plain": [
       "             ID  news                                                URL\n",
       "0  1.100101e+06  경향신문  http://news.khan.co.kr/kh_news/khan_art_view.h...\n",
       "1  1.100101e+06  경향신문  http://news.khan.co.kr/kh_news/khan_art_view.h...\n",
       "2  1.100101e+06  경향신문  http://news.khan.co.kr/kh_news/khan_art_view.h...\n",
       "3  1.100101e+06  경향신문  http://news.khan.co.kr/kh_news/khan_art_view.h...\n",
       "4  1.100101e+06  경향신문  http://news.khan.co.kr/kh_news/khan_art_view.h..."
      ]
     },
     "execution_count": 23,
     "metadata": {},
     "output_type": "execute_result"
    }
   ],
   "source": [
    "import pandas as pd\n",
    "\n",
    "url_list_all = pd.read_csv('MediaTopic_R/article.url.csv')\n",
    "url_list_all.head()"
   ]
  },
  {
   "cell_type": "code",
   "execution_count": 24,
   "metadata": {},
   "outputs": [
    {
     "data": {
      "text/html": [
       "<div>\n",
       "<style scoped>\n",
       "    .dataframe tbody tr th:only-of-type {\n",
       "        vertical-align: middle;\n",
       "    }\n",
       "\n",
       "    .dataframe tbody tr th {\n",
       "        vertical-align: top;\n",
       "    }\n",
       "\n",
       "    .dataframe thead th {\n",
       "        text-align: right;\n",
       "    }\n",
       "</style>\n",
       "<table border=\"1\" class=\"dataframe\">\n",
       "  <thead>\n",
       "    <tr style=\"text-align: right;\">\n",
       "      <th></th>\n",
       "      <th>ID</th>\n",
       "      <th>news</th>\n",
       "      <th>URL</th>\n",
       "    </tr>\n",
       "  </thead>\n",
       "  <tbody>\n",
       "    <tr>\n",
       "      <th>334</th>\n",
       "      <td>1.100901e+06</td>\n",
       "      <td>중앙일보</td>\n",
       "      <td>https://news.joins.com/article/olink/3176644</td>\n",
       "    </tr>\n",
       "    <tr>\n",
       "      <th>335</th>\n",
       "      <td>1.100901e+06</td>\n",
       "      <td>중앙일보</td>\n",
       "      <td>https://news.joins.com/article/olink/3185500</td>\n",
       "    </tr>\n",
       "    <tr>\n",
       "      <th>336</th>\n",
       "      <td>1.100901e+06</td>\n",
       "      <td>중앙일보</td>\n",
       "      <td>https://news.joins.com/article/olink/3276221</td>\n",
       "    </tr>\n",
       "    <tr>\n",
       "      <th>337</th>\n",
       "      <td>1.100901e+06</td>\n",
       "      <td>중앙일보</td>\n",
       "      <td>https://news.joins.com/article/olink/3279497</td>\n",
       "    </tr>\n",
       "  </tbody>\n",
       "</table>\n",
       "</div>"
      ],
      "text/plain": [
       "               ID  news                                           URL\n",
       "334  1.100901e+06  중앙일보  https://news.joins.com/article/olink/3176644\n",
       "335  1.100901e+06  중앙일보  https://news.joins.com/article/olink/3185500\n",
       "336  1.100901e+06  중앙일보  https://news.joins.com/article/olink/3276221\n",
       "337  1.100901e+06  중앙일보  https://news.joins.com/article/olink/3279497"
      ]
     },
     "execution_count": 24,
     "metadata": {},
     "output_type": "execute_result"
    }
   ],
   "source": [
    "url_list_all[url_list_all['URL'].str.contains('news.join')]"
   ]
  },
  {
   "cell_type": "code",
   "execution_count": 25,
   "metadata": {},
   "outputs": [],
   "source": [
    "url_list_all = url_list_all[url_list_all['URL'].str.contains('news.join') == False]"
   ]
  },
  {
   "cell_type": "code",
   "execution_count": 6,
   "metadata": {},
   "outputs": [
    {
     "name": "stdout",
     "output_type": "stream",
     "text": [
      "625\n",
      "['경향신문' '동아일보' '중앙일보' '한겨레']\n"
     ]
    }
   ],
   "source": [
    "print(url_list_all['ID'].nunique())\n",
    "print(url_list_all['news'].unique())"
   ]
  },
  {
   "cell_type": "code",
   "execution_count": 5,
   "metadata": {},
   "outputs": [
    {
     "data": {
      "text/plain": [
       "637"
      ]
     },
     "execution_count": 5,
     "metadata": {},
     "output_type": "execute_result"
    }
   ],
   "source": [
    "url_list_all['URL'].nunique()"
   ]
  },
  {
   "cell_type": "markdown",
   "metadata": {},
   "source": [
    "## 경향신문\n"
   ]
  },
  {
   "cell_type": "code",
   "execution_count": null,
   "metadata": {},
   "outputs": [],
   "source": [
    "url_list_kh = url_list_all[url_list_all['news']=='경향신문']\n",
    "url_list_kh['content'] = \"\"\n",
    "url_list_kh.head()"
   ]
  },
  {
   "cell_type": "code",
   "execution_count": null,
   "metadata": {},
   "outputs": [],
   "source": [
    "## \n",
    "content_list = []\n",
    "i = 0\n",
    "for url in url_list_kh['URL']:\n",
    "    webpage = make_request(url)\n",
    "    if webpage:\n",
    "        if webpage.select('div.article_cont'):\n",
    "            article_text = ' '.join([p.get_text() for p in webpage.select('div.article_cont')])\n",
    "        else:\n",
    "            article_text = ' '.join([p.get_text() for p in webpage.select('div.art_body')])\n",
    "\n",
    "        article_text = re.sub(r'\\n|\\r|\\t', '', article_text).strip()\n",
    "        article_text = re.sub(r'createIframe\\(.*?\\);\\s*', '', article_text)\n",
    "   \n",
    "    url_list_kh['content'][i] = article_text\n",
    "    time.sleep(1)\n",
    "    print(url, url_list_kh['content'][i])\n",
    "    i += 1"
   ]
  },
  {
   "cell_type": "code",
   "execution_count": null,
   "metadata": {},
   "outputs": [],
   "source": [
    "url_list_kh.to_csv('url_list_kh.csv', encoding='utf-8-sig')\n",
    "url_list_kh.head()"
   ]
  },
  {
   "cell_type": "markdown",
   "metadata": {},
   "source": [
    "## 동아일보\n"
   ]
  },
  {
   "cell_type": "code",
   "execution_count": null,
   "metadata": {},
   "outputs": [],
   "source": [
    "url_list_da = url_list_all[url_list_all['news']=='동아일보'].reset_index(drop=True)\n",
    "url_list_da['content'] = \"\"\n",
    "url_list_da.head()"
   ]
  },
  {
   "cell_type": "code",
   "execution_count": null,
   "metadata": {},
   "outputs": [],
   "source": [
    "content_list = []\n",
    "for url in url_list_da['URL']:\n",
    "    response = requests.get(url)\n",
    "    soup = BeautifulSoup(response.text, 'html.parser')\n",
    "    content = soup.select_one('.article_txt')\n",
    "    article_text = re.sub(r'\\n|\\r|\\t', '', content.text).strip()\n",
    "    article_text = re.sub(r'createIframe\\(.*?\\);\\s*', '', article_text)\n",
    "    content_list.append(article_text)\n",
    "    time.sleep(1)\n",
    "    \n",
    "url_list_da['content'] = content_list\n",
    "url_list_da  "
   ]
  },
  {
   "cell_type": "code",
   "execution_count": null,
   "metadata": {},
   "outputs": [],
   "source": [
    "url_list_da.to_csv('url_list_da.csv', encoding='utf-8-sig')\n",
    "url_list_da.head()"
   ]
  },
  {
   "cell_type": "markdown",
   "metadata": {},
   "source": [
    "## 중앙일보\n"
   ]
  },
  {
   "cell_type": "code",
   "execution_count": null,
   "metadata": {},
   "outputs": [],
   "source": [
    "url_list_ja = url_list_all[url_list_all['news']=='중앙일보'].reset_index(drop=True)\n",
    "url_list_ja['content'] = \"\"\n",
    "url_list_ja.head()"
   ]
  },
  {
   "cell_type": "code",
   "execution_count": null,
   "metadata": {},
   "outputs": [],
   "source": [
    "content_list = []\n",
    "i = 0\n",
    "for url in url_list_ja['URL']:\n",
    "    webpage = make_request(url)\n",
    "    if webpage:\n",
    "        article_elements = webpage.select('div.article_body')\n",
    "        article_text = ' '.join([p.get_text() for p in article_elements[0].select('p')])\n",
    "        content_list.append(article_text)\n",
    "        time.sleep(1)\n",
    "        # paragraphs = webpage.find_all('p')\n",
    "        # texts = [p.get_text() for p in paragraphs]\n",
    "        # article_text = max(texts, key=len, default=\"\")\n",
    "        # content_list.append(article_text)\n",
    "    else:\n",
    "        article_text = \"\"\n",
    "        content_list.append(article_text)\n",
    "        time.sleep(1)\n",
    "url_list_ja['content'] = content_list\n",
    "url_list_ja      \n"
   ]
  },
  {
   "cell_type": "code",
   "execution_count": null,
   "metadata": {},
   "outputs": [],
   "source": [
    "url_list_ja.to_csv('url_list_ja.csv', encoding='utf-8-sig')\n",
    "url_list_ja.head()"
   ]
  },
  {
   "cell_type": "markdown",
   "metadata": {},
   "source": [
    "## 한겨레\n"
   ]
  },
  {
   "cell_type": "code",
   "execution_count": null,
   "metadata": {},
   "outputs": [],
   "source": [
    "url_list_han = url_list_all[url_list_all['news']=='한겨레'].reset_index(drop=True)\n",
    "url_list_han['content'] = \"\"\n",
    "url_list_han.head()"
   ]
  },
  {
   "cell_type": "code",
   "execution_count": null,
   "metadata": {},
   "outputs": [],
   "source": [
    "# url_list_han의 'url' 컬럼의 값들을 순회하면서 기사 본문을 추출\n",
    "i = 0\n",
    "for url in url_list_han['URL']:\n",
    "    webpage = make_request(url)\n",
    "    if webpage:\n",
    "        if webpage.select_one('div.text') == None:\n",
    "            article_elements = webpage.select('div.news_text01')\n",
    "            article_text = ' '.join([element.get_text() for element in article_elements])\n",
    "            article_text = re.sub(r'\\n|\\r|\\t', '', article_text).strip()\n",
    "            article_text = re.sub(r'function getPoll().*$', '', article_text)\n",
    "        else:\n",
    "            article_text = webpage.select_one('div.text').get_text()\n",
    "            article_text = re.sub(r'\\n|\\r|\\t', '', article_text).strip()\n",
    "            article_text = re.sub(r'function getPoll().*$', '', article_text)\n",
    "    else:\n",
    "        article_text = \"\"\n",
    "        time.sleep(1)\n",
    "        \n",
    "    url_list_han['content'][i] = article_text\n",
    "    time.sleep(1)\n",
    "    print(url, url_list_han['content'][i])\n",
    "    i += 1"
   ]
  },
  {
   "cell_type": "code",
   "execution_count": null,
   "metadata": {},
   "outputs": [],
   "source": [
    "url_list_han.to_csv('url_list_han.csv', encoding='utf-8-sig')\n",
    "url_list_han.head()"
   ]
  },
  {
   "cell_type": "markdown",
   "metadata": {},
   "source": [
    "## 네이버뉴스"
   ]
  },
  {
   "cell_type": "code",
   "execution_count": null,
   "metadata": {},
   "outputs": [],
   "source": [
    "url_list_naver = url_list_all[url_list_all['URL'].str.contains('naver')].reset_index(drop=True)\n",
    "url_list_naver['content'] = \"\"\n",
    "url_list_naver.head()"
   ]
  },
  {
   "cell_type": "code",
   "execution_count": null,
   "metadata": {},
   "outputs": [],
   "source": [
    "url = url_list_naver['URL'][0]\n",
    "i = 0\n",
    "for url in url_list_naver['URL']:\n",
    "    webpage = make_request(url)\n",
    "    if webpage:\n",
    "        article_elements = webpage.select('div.newsct_article')\n",
    "        article_text = ' '.join([element.get_text() for element in article_elements])\n",
    "        article_text = re.sub(r'\\n|\\r|\\t', '', article_text).strip()\n",
    "        article_text = re.sub(r'function getPoll().*$', '', article_text)\n",
    "        \n",
    "    url_list_naver['content'][i] = article_text\n",
    "    time.sleep(1)\n",
    "    print(url, url_list_naver['content'][i])\n",
    "    i += 1"
   ]
  },
  {
   "cell_type": "code",
   "execution_count": null,
   "metadata": {},
   "outputs": [],
   "source": [
    "url_list_naver.to_csv('url_list_naver.csv', encoding='utf-8-sig')\n",
    "url_list_naver.head()"
   ]
  },
  {
   "cell_type": "markdown",
   "metadata": {},
   "source": [
    "# Merge"
   ]
  },
  {
   "cell_type": "code",
   "execution_count": 42,
   "metadata": {},
   "outputs": [],
   "source": [
    "url_list_da = pd.read_csv('url_list_da.csv')\n",
    "url_list_kh = pd.read_csv('url_list_kh.csv')"
   ]
  },
  {
   "cell_type": "code",
   "execution_count": null,
   "metadata": {},
   "outputs": [],
   "source": [
    "url_list_all = pd.concat([url_list_han, url_list_ja, url_list_da, url_list_kh, url_list_naver])\n",
    "url_list_all = url_list_all.reset_index(drop=True)\n",
    "url_list_all"
   ]
  },
  {
   "cell_type": "code",
   "execution_count": 44,
   "metadata": {},
   "outputs": [],
   "source": [
    "url_list_all.to_csv('url_list_all_fixed.csv', encoding='utf-8-sig')"
   ]
  }
 ],
 "metadata": {
  "kernelspec": {
   "display_name": "gpuenv",
   "language": "python",
   "name": "python3"
  },
  "language_info": {
   "codemirror_mode": {
    "name": "ipython",
    "version": 3
   },
   "file_extension": ".py",
   "mimetype": "text/x-python",
   "name": "python",
   "nbconvert_exporter": "python",
   "pygments_lexer": "ipython3",
   "version": "3.9.16"
  }
 },
 "nbformat": 4,
 "nbformat_minor": 2
}
